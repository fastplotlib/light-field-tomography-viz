{
 "cells": [
  {
   "cell_type": "code",
   "execution_count": 1,
   "id": "7b60a150-9759-4924-b711-777a6ed1e790",
   "metadata": {
    "editable": true,
    "slideshow": {
     "slide_type": ""
    },
    "tags": [
     "hide"
    ]
   },
   "outputs": [
    {
     "name": "stderr",
     "output_type": "stream",
     "text": [
      "pygfx version from git (0.4.1) and __version__ (0.5.0) don't match.\n",
      "WARNING: The name 'ylorbr' is an alias for 'colorbrewer:YlOrBr', but is also available as: 'tol:YlOrBr'.\n",
      "To silence this warning, use a fully namespaced name.\n",
      "WARNING: The name 'prgn' is an alias for 'colorbrewer:PRGn', but is also available as: 'tol:PRGn'.\n",
      "To silence this warning, use a fully namespaced name.\n",
      "WARNING: The name 'fire' is an alias for 'imagej:fire', but is also available as: 'vispy:fire'.\n",
      "To silence this warning, use a fully namespaced name.\n",
      "WARNING: The name 'rdbu' is an alias for 'colorbrewer:RdBu', but is also available as: 'vispy:RdBu'.\n",
      "To silence this warning, use a fully namespaced name.\n",
      "WARNING: The name 'ice' is an alias for 'cmocean:ice', but is also available as: 'imagej:ice, vispy:ice'.\n",
      "To silence this warning, use a fully namespaced name.\n",
      "WARNING: The name 'rainbow' is an alias for 'gnuplot:rainbow', but is also available as: 'yorick:rainbow'.\n",
      "To silence this warning, use a fully namespaced name.\n",
      "No windowing system present. Using surfaceless platform\n",
      "No config found!\n",
      "No config found!\n",
      "Detected skylake derivative running on mesa i915. Clears to srgb textures will use manual shader clears.\n",
      "Detected skylake derivative running on mesa i915. Clears to srgb textures will use manual shader clears.\n"
     ]
    }
   ],
   "source": [
    "import warnings\n",
    "warnings.filterwarnings(\"ignore\")\n",
    "\n",
    "import fastplotlib as fpl\n",
    "import h5py\n",
    "from tqdm.notebook import tqdm\n",
    "import os\n",
    "import numpy as np\n",
    "import pygfx as gfx\n",
    "from ipywidgets import IntSlider, HBox, VBox, Layout, Play, jslink, ToggleButtons, Button, IntRangeSlider\n",
    "from skimage.exposure import rescale_intensity"
   ]
  },
  {
   "cell_type": "code",
   "execution_count": 2,
   "id": "46aeb612-548b-493b-98fd-d36d05ba32f1",
   "metadata": {},
   "outputs": [],
   "source": [
    "green_scale = 2  # adjust the channel brightness\n",
    "red_scale = 0.5"
   ]
  },
  {
   "cell_type": "code",
   "execution_count": 3,
   "id": "7079630b-4679-4250-9210-41bb03119315",
   "metadata": {
    "editable": true,
    "raw_mimetype": "",
    "slideshow": {
     "slide_type": ""
    },
    "tags": []
   },
   "outputs": [],
   "source": [
    "# data = np.memmap(\"/MCAM_data/mark/zebrafish_20220721_set3_4D_reconstructions_20230502_195635_830/memmap.mmap\", dtype=np.uint8, mode=\"r\", shape=(120, 400, 400, 400, 3), order=\"C\")"
   ]
  },
  {
   "cell_type": "code",
   "execution_count": 4,
   "id": "5ba7e52e-8af9-4006-bc40-d13a1970d648",
   "metadata": {},
   "outputs": [],
   "source": [
    "import zarr"
   ]
  },
  {
   "cell_type": "code",
   "execution_count": 5,
   "id": "d3d5ebf9-8b2d-44d0-b535-66fc48975b1b",
   "metadata": {},
   "outputs": [],
   "source": [
    "data = zarr.open(\"/MCAM_data/mark/zebrafish_20220721_set3_4D_reconstructions_20230502_195635_830/data.zarr\", mode=\"r\")#, shape=(121, 400, 400, 400, 3), chunks=(None, 40, 40, 1), dtype=\"uint8\")"
   ]
  },
  {
   "cell_type": "code",
   "execution_count": 6,
   "id": "b9b96fac-dc15-4b70-ac4e-9d7c0b775c7c",
   "metadata": {},
   "outputs": [],
   "source": [
    "from pygfx.materials import VolumeRayMaterial as _VolumeRayMaterial\n",
    "import pygfx as gfx\n",
    "from pygfx.renderers.wgpu import register_wgpu_render_function\n",
    "from pygfx.renderers.wgpu.shaders.volumeshader import VolumeRayShader\n",
    "\n",
    "class MarkVolmeRayMaterial(gfx.VolumeRayMaterial):\n",
    "    uniform_type = dict(\n",
    "        gfx.VolumeRayMaterial.uniform_type,\n",
    "        image_min=\"4xf4\",\n",
    "        image_max=\"4xf4\",\n",
    "        gamma=\"4xf4\",\n",
    "    )\n",
    "    def __init__(self, *args, **kwargs):\n",
    "        super().__init__(*args, **kwargs)\n",
    "        self.image_min = (0., 0., 0., 0.)\n",
    "        self.image_max = (1., 1., 1., 1.)\n",
    "        self.gamma = (1., 1., 1., 1.)\n",
    "\n",
    "    @property\n",
    "    def image_min(self):\n",
    "        v1, v2, v3, v4 = self.uniform_buffer.data[\"image_min\"]\n",
    "        return float(v1), float(v2), float(v3), float(v4)\n",
    "\n",
    "    @image_min.setter\n",
    "    def image_min(self, image_min):\n",
    "        if image_min is None:\n",
    "            image_min = 0., 0., 0., 0.\n",
    "        image_min = float(image_min[0]), float(image_min[1]), float(image_min[2]), float(image_min[3])\n",
    "        self.uniform_buffer.data[\"image_min\"] = image_min\n",
    "        self.uniform_buffer.update_range()\n",
    "\n",
    "    @property\n",
    "    def image_max(self):\n",
    "        v1, v2, v3, v4 = self.uniform_buffer.data[\"image_max\"]\n",
    "        return float(v1), float(v2), float(v3), float(v4)\n",
    "\n",
    "    @image_max.setter\n",
    "    def image_max(self, image_max):\n",
    "        if image_max is None:\n",
    "            image_max = 1., 1., 1., 1.\n",
    "        image_max = float(image_max[0]), float(image_max[1]), float(image_max[2]), float(image_max[3])\n",
    "        self.uniform_buffer.data[\"image_max\"] = image_max\n",
    "        self.uniform_buffer.update_range()\n",
    "\n",
    "    @property\n",
    "    def gamma(self):\n",
    "        v1, v2, v3, v4 = self.uniform_buffer.data[\"gamma\"]\n",
    "        return float(v1), float(v2), float(v3), float(v4)\n",
    "\n",
    "    @gamma.setter\n",
    "    def gamma(self, gamma):\n",
    "        if gamma is None:\n",
    "            gamma = 1., 1., 1., 1.\n",
    "        gamma = float(gamma[0]), float(gamma[1]), float(gamma[2]), float(gamma[3])\n",
    "        self.uniform_buffer.data[\"gamma\"] = gamma\n",
    "        self.uniform_buffer.update_range()\n",
    "\n",
    "@register_wgpu_render_function(gfx.Volume, MarkVolmeRayMaterial)\n",
    "class MarkVolumeRayShader(VolumeRayShader):\n",
    "    def get_code(self):\n",
    "        original = super().get_code()\n",
    "\n",
    "        # Kinda hack around PyGFX's shader. This is pretty fragile\n",
    "        # This does the adjustment AFTER the data has been sampled.\n",
    "        # You can also do the modification at sampling time\n",
    "        modified_code_at_display = original.replace(\n",
    "\"        let out_color = vec4<f32>(physical_color, opacity);\",\n",
    "\"\"\"\n",
    "        let original_color = vec4<f32>(physical_color, opacity);\n",
    "        let contrast_adjusted = (original_color - u_material.image_min) / (u_material.image_max - u_material.image_min);\n",
    "        let gamma_adjusted = pow(contrast_adjusted, 1.0 / u_material.gamma);\n",
    "        let out_color = gamma_adjusted;\n",
    "\"\"\"\n",
    "        )\n",
    "\n",
    "        modified_code_at_sampling = original.replace(\n",
    "            \" = sample_vol(\",\n",
    "            \" = sample_vol_corrected(\"\n",
    "        )\n",
    "\n",
    "        modified_code_at_sampling = \"\"\"\n",
    "fn sample_vol_corrected(texcoord: vec3<f32>, sizef: vec3<f32>) -> vec4<f32> {\n",
    "    let original_color = sample_vol(texcoord, sizef);\n",
    "    let contrast_adjusted = (original_color - u_material.image_min) / (u_material.image_max - u_material.image_min);\n",
    "    let gamma_adjusted = pow(contrast_adjusted, 1.0 / u_material.gamma);\n",
    "    return gamma_adjusted.rgra;\n",
    "}\n",
    "\n",
    "\"\"\" + modified_code_at_sampling\n",
    "        \n",
    "        return modified_code_at_sampling\n",
    "        "
   ]
  },
  {
   "cell_type": "code",
   "execution_count": 7,
   "id": "852a7cd0-1ce6-4ae8-9b85-75384135d4f5",
   "metadata": {},
   "outputs": [],
   "source": [
    "current_volume = np.transpose(data[0], (1, 2, 0, 3))\n",
    "\n",
    "current_volume[..., 1] = (current_volume[..., 1].astype(np.uint16) * green_scale).clip(0, 255).astype(np.uint8)\n",
    "current_volume[..., 0] = (current_volume[..., 0] * red_scale).astype(np.uint8)"
   ]
  },
  {
   "cell_type": "code",
   "execution_count": 8,
   "id": "6754d6d6-ab01-496a-a941-1c959f7b850c",
   "metadata": {},
   "outputs": [],
   "source": [
    "tex = gfx.Texture(current_volume, dim=3)"
   ]
  },
  {
   "cell_type": "code",
   "execution_count": 9,
   "id": "d00556ed-6163-4421-b796-5d19da62e612",
   "metadata": {},
   "outputs": [],
   "source": [
    "vol = gfx.Volume(\n",
    "    gfx.Geometry(grid=tex),\n",
    "    MarkVolmeRayMaterial(clim=(0, 255)),\n",
    ")\n",
    "\n",
    "vol.material.image_max = (1., 1., 1., 0.1)"
   ]
  },
  {
   "cell_type": "code",
   "execution_count": 10,
   "id": "b90228d1-d05f-4c56-b388-b3dee7eee875",
   "metadata": {
    "editable": true,
    "slideshow": {
     "slide_type": ""
    },
    "tags": []
   },
   "outputs": [],
   "source": [
    "vol_dims = data.shape[1:-1]"
   ]
  },
  {
   "cell_type": "code",
   "execution_count": 11,
   "id": "a381182b-74a2-48b9-8ddf-d627696c6621",
   "metadata": {},
   "outputs": [],
   "source": [
    "# selectors to move through cross_sections\n",
    "xy_selector = fpl.RectangleSelector(\n",
    "    selection=(-5, vol_dims[0] + 20, -5, vol_dims[0] + 20), \n",
    "    limits=(-5, vol_dims[0] + 20, -5, vol_dims[0] + 20), \n",
    "    resizable=False,\n",
    "    edge_color=\"b\",\n",
    "    fill_color=(0, 0, 0, 0),\n",
    ")\n",
    "xz_selector = fpl.RectangleSelector(\n",
    "    selection=(-5, vol_dims[0] + 20, -5, vol_dims[0] + 20), \n",
    "    limits=(-5, vol_dims[0] + 20, -5, vol_dims[0] + 20), \n",
    "    resizable=False,\n",
    "    edge_color=\"g\",\n",
    "    fill_color=(0, 0, 0, 0),\n",
    ")\n",
    "yz_selector = fpl.RectangleSelector(\n",
    "    selection=(-5, vol_dims[0] + 20, -5, vol_dims[0] + 20), \n",
    "    limits=(-5, vol_dims[0] + 20, -5, vol_dims[0] + 20), \n",
    "    resizable=False,\n",
    "    edge_color=\"r\",\n",
    "    fill_color=(0, 0, 0, 0),\n",
    ")\n",
    "\n",
    "for s in [xy_selector, xz_selector, yz_selector]:\n",
    "    for edge in s._edges:\n",
    "        edge.material.thickness = 2\n",
    "    \n",
    "    for vertex in s.vertices:\n",
    "        vertex.visible = False"
   ]
  },
  {
   "cell_type": "code",
   "execution_count": 12,
   "id": "a1a0da5e-cccb-4929-9feb-29a7d451d762",
   "metadata": {
    "editable": true,
    "slideshow": {
     "slide_type": ""
    },
    "tags": []
   },
   "outputs": [],
   "source": [
    "yz_selector.rotate(-np.pi/2, \"y\")\n",
    "xz_selector.rotate(np.pi/2, \"x\")"
   ]
  },
  {
   "cell_type": "code",
   "execution_count": 13,
   "id": "6ab8728a-dea9-4c57-81c7-380ac600a027",
   "metadata": {
    "editable": true,
    "slideshow": {
     "slide_type": ""
    },
    "tags": []
   },
   "outputs": [
    {
     "data": {
      "application/vnd.jupyter.widget-view+json": {
       "model_id": "7e7a140514764700b3b9e358096c377c",
       "version_major": 2,
       "version_minor": 0
      },
      "text/plain": [
       "RFBOutputContext()"
      ]
     },
     "metadata": {},
     "output_type": "display_data"
    },
    {
     "name": "stderr",
     "output_type": "stream",
     "text": [
      "Detected skylake derivative running on mesa i915. Clears to srgb textures will use manual shader clears.\n"
     ]
    }
   ],
   "source": [
    "fig = fpl.Figure(\n",
    "    cameras=\"3d\", \n",
    "    controller_types=\"orbit\", \n",
    "    names=[[\"Volumetric Reconstruction\"]],\n",
    "    size=(650, 650),\n",
    ")"
   ]
  },
  {
   "cell_type": "code",
   "execution_count": 14,
   "id": "16cc87b3-1bed-477f-8d5e-35a22b5ec7ce",
   "metadata": {
    "editable": true,
    "slideshow": {
     "slide_type": ""
    },
    "tags": []
   },
   "outputs": [],
   "source": [
    "_ = fig[0, 0]._fpl_graphics_scene.add(vol)"
   ]
  },
  {
   "cell_type": "code",
   "execution_count": 15,
   "id": "ede54e2a-c7e0-4af2-8f42-7025da936d91",
   "metadata": {
    "editable": true,
    "slideshow": {
     "slide_type": ""
    },
    "tags": []
   },
   "outputs": [],
   "source": [
    "fig[0, 0].add_graphic(xy_selector)\n",
    "fig[0, 0].add_graphic(xz_selector)\n",
    "_ = fig[0, 0].add_graphic(yz_selector)"
   ]
  },
  {
   "cell_type": "code",
   "execution_count": 16,
   "id": "ec4ccb35-cc27-4401-8bc9-c0b4bf17e60f",
   "metadata": {
    "editable": true,
    "slideshow": {
     "slide_type": ""
    },
    "tags": []
   },
   "outputs": [
    {
     "data": {
      "application/vnd.jupyter.widget-view+json": {
       "model_id": "fe39a05ede154b7389676ce6ee91a28d",
       "version_major": 2,
       "version_minor": 0
      },
      "text/plain": [
       "RFBOutputContext()"
      ]
     },
     "metadata": {},
     "output_type": "display_data"
    }
   ],
   "source": [
    "slice_fig = fpl.Figure(\n",
    "    shape=(2, 2), \n",
    "    size=(650, 650),\n",
    "    controller_ids=\"sync\",\n",
    "    names=[[\"xy\", \"xz\"], [\"yz\", \"\"]]\n",
    ")"
   ]
  },
  {
   "cell_type": "code",
   "execution_count": 17,
   "id": "2217db13-d766-47a8-a91b-14a0c5d78c5d",
   "metadata": {},
   "outputs": [],
   "source": [
    "# initial cross-section \n",
    "i = 0\n",
    "\n",
    "current_volume[..., -1] = current_volume[..., 0]\n",
    "\n",
    "slice_fig[\"xy\"].add_image(current_volume[:, :, i], vmin=0, vmax=255)\n",
    "slice_fig[\"xz\"].add_image(current_volume[:, i, :], vmin=0, vmax=255)\n",
    "_ = slice_fig[\"yz\"].add_image(current_volume[i, :, :], vmin=0, vmax=255)"
   ]
  },
  {
   "cell_type": "code",
   "execution_count": 18,
   "id": "54952fd9-d025-44a1-a6ed-44dd2e63f11e",
   "metadata": {
    "editable": true,
    "slideshow": {
     "slide_type": ""
    },
    "tags": []
   },
   "outputs": [],
   "source": [
    "layout = Layout(width=\"860px\")\n",
    "\n",
    "time = IntSlider(min=0, max=120, description=\"time:\", layout=layout)\n",
    "\n",
    "play = Play(value=0, min=0, max=120, step=1, interval=500)\n",
    "jslink((play, \"value\"), (time, \"value\"))\n",
    "\n",
    "xy = IntSlider(min=0, max=vol_dims[2]-1, description=\"xy:\", layout=layout)\n",
    "xz = IntSlider(min=0, max=vol_dims[1]-1, description=\"xz:\", layout=layout)\n",
    "yz = IntSlider(min=0, max=vol_dims[0]-1, description=\"yz:\", layout=layout)"
   ]
  },
  {
   "cell_type": "code",
   "execution_count": 19,
   "id": "938a7f19-9657-435f-89dd-a04c01b5d249",
   "metadata": {},
   "outputs": [],
   "source": [
    "clim_red = IntRangeSlider(value=(0, 255), min=0, max=255, description=\"clim red:\")\n",
    "clim_green = IntRangeSlider(value=(0, 255), min=0, max=255, description=\"clim green:\")"
   ]
  },
  {
   "cell_type": "code",
   "execution_count": 20,
   "id": "f1c12103-6b85-4544-a254-e599cefc933f",
   "metadata": {
    "editable": true,
    "slideshow": {
     "slide_type": ""
    },
    "tags": []
   },
   "outputs": [],
   "source": [
    "def update_data(ev):\n",
    "    new_time = ev[\"new\"]\n",
    "\n",
    "    global current_volume\n",
    "\n",
    "    current_volume[:] = np.transpose(data[new_time], (1, 2, 0, 3))\n",
    "\n",
    "    # prevent overflow\n",
    "    current_volume[..., 1] = (current_volume[..., 1].astype(np.uint16) * green_scale).clip(0, 255).astype(np.uint8)\n",
    "    current_volume[..., 0] = (current_volume[..., 0] * red_scale).astype(np.uint8)\n",
    "    \n",
    "    # set blue value to match red\n",
    "    current_volume[..., -1] = current_volume[..., 0]\n",
    "    \n",
    "    vol.geometry.grid.data[:] = current_volume\n",
    "    vol.geometry.grid.update_full()\n",
    "\n",
    "    # update slices\n",
    "    xy_data = current_volume[xy.value].copy()\n",
    "    xz_data = current_volume[:, xz.value].copy()\n",
    "    yz_data = current_volume[:, :, yz.value].copy()\n",
    "\n",
    "    limits_red = clim_red.value\n",
    "    limits_green = clim_green.value\n",
    "\n",
    "    xy_data[..., 0] = rescale_intensity(xy_data[..., 0], limits_red)\n",
    "    xy_data[..., -1] = xy_data[..., 0]\n",
    "    xy_data[..., 1] = rescale_intensity(xy_data[..., 1], limits_green)\n",
    "\n",
    "    xz_data[..., 0] = rescale_intensity(xz_data[..., 0], limits_red)\n",
    "    xz_data[..., -1] = xz_data[..., 0]\n",
    "    xz_data[..., 1] = rescale_intensity(xz_data[..., 1], limits_green)\n",
    "\n",
    "    yz_data[..., 0] = rescale_intensity(yz_data[..., 0], limits_red)\n",
    "    yz_data[..., -1] = yz_data[..., 0]\n",
    "    yz_data[..., 1] = rescale_intensity(yz_data[..., 1], limits_green)\n",
    "    \n",
    "    slice_fig[\"xy\"].graphics[0].data = xy_data\n",
    "    slice_fig[\"xz\"].graphics[0].data = xz_data\n",
    "    slice_fig[\"yz\"].graphics[0].data = yz_data\n",
    "\n",
    "    # update text with new time\n",
    "    fig[0,0].docks[\"bottom\"].graphics[0].text = f\"time: {new_time}\""
   ]
  },
  {
   "cell_type": "code",
   "execution_count": 21,
   "id": "453dcb82-fd08-45a2-8ebc-a129aefb6d54",
   "metadata": {},
   "outputs": [],
   "source": [
    "def clim_red_changed(change):\n",
    "    limits = change[\"new\"]\n",
    "    green_limits = clim_green.value\n",
    "    vol.material.image_min = (limits[0] / 255, limits[0] / 255, limits[0] / 255, 0)\n",
    "    vol.material.image_max = (limits[1] / 255, green_limits[1] / 255, limits[1] / 255, 0.5)\n",
    "\n",
    "\n",
    "    xy_data = current_volume[xy.value]\n",
    "    xz_data = current_volume[:, xz.value]\n",
    "    yz_data = current_volume[:, :, yz.value]\n",
    "\n",
    "    slice_fig[\"xy\"].graphics[0].data[..., 0] = rescale_intensity(xy_data[..., 0], limits)\n",
    "    slice_fig[\"xy\"].graphics[0].data[..., -1] = rescale_intensity(xy_data[..., -1], limits)\n",
    "    \n",
    "    slice_fig[\"xz\"].graphics[0].data[..., 0] = rescale_intensity(xz_data[..., 0], limits)\n",
    "    slice_fig[\"xz\"].graphics[0].data[..., -1] = rescale_intensity(xz_data[..., -1], limits)\n",
    "    \n",
    "    slice_fig[\"yz\"].graphics[0].data[..., 0] = rescale_intensity(yz_data[..., 0], limits)\n",
    "    slice_fig[\"yz\"].graphics[0].data[..., -1] = rescale_intensity(yz_data[..., -1], limits)\n",
    "\n",
    "\n",
    "def clim_green_changed(change):\n",
    "    limits = change[\"new\"]\n",
    "    red_limits = clim_red.value\n",
    "    vol.material.image_min = (red_limits[0] / 255, limits[0] / 255, red_limits[0] / 255, 0)\n",
    "    vol.material.image_max = (red_limits[1] / 255, limits[1] / 255, red_limits[1] / 255, 0.5)\n",
    "\n",
    "    xy_data = current_volume[xy.value]\n",
    "    xz_data = current_volume[:, xz.value]\n",
    "    yz_data = current_volume[:, :, yz.value]\n",
    "\n",
    "    slice_fig[\"xy\"].graphics[0].data[..., 1] = rescale_intensity(xy_data[..., 1], limits)\n",
    "    \n",
    "    slice_fig[\"xz\"].graphics[0].data[..., 1] = rescale_intensity(xz_data[..., 1], limits)\n",
    "    \n",
    "    slice_fig[\"yz\"].graphics[0].data[..., 1] = rescale_intensity(yz_data[..., 1], limits)\n",
    "\n",
    "clim_red.observe(clim_red_changed, \"value\")\n",
    "clim_green.observe(clim_green_changed, \"value\")"
   ]
  },
  {
   "cell_type": "code",
   "execution_count": 22,
   "id": "eba5bb1c-0bb2-4fc0-b851-95fab4f6ab39",
   "metadata": {},
   "outputs": [],
   "source": [
    "def update_xy(ev):\n",
    "    new = ev[\"new\"]\n",
    "    global current_volume\n",
    "    \n",
    "    xy_data = current_volume[new]\n",
    "\n",
    "    xy_selector.offset = (0, 0, new)\n",
    "\n",
    "    slice_fig[\"xy\"].graphics[0].data = xy_data"
   ]
  },
  {
   "cell_type": "code",
   "execution_count": 23,
   "id": "c4cd3811-f82c-48eb-b877-b7a7d3cb3560",
   "metadata": {},
   "outputs": [],
   "source": [
    "def update_xz(ev):\n",
    "    new = ev[\"new\"]\n",
    "\n",
    "    global current_volume\n",
    "\n",
    "    xz_selector.offset=(0, new, 0)\n",
    "\n",
    "    xz_data = current_volume[:, xz.value]\n",
    "    \n",
    "    slice_fig[\"xz\"].graphics[0].data = xz_data"
   ]
  },
  {
   "cell_type": "code",
   "execution_count": 24,
   "id": "f2238e3f-7e6a-4617-8991-373145c8d4a0",
   "metadata": {},
   "outputs": [],
   "source": [
    "def update_yz(ev):\n",
    "    new = ev[\"new\"]\n",
    "\n",
    "    global current_volume\n",
    "\n",
    "    yz_data = current_volume[:, :, new]\n",
    "\n",
    "    yz_selector.offset = (new, 0, 0)\n",
    "\n",
    "    slice_fig[\"yz\"].graphics[0].data = yz_data"
   ]
  },
  {
   "cell_type": "code",
   "execution_count": 25,
   "id": "ae4f1f56-6c10-4721-aa2b-5eb40370058f",
   "metadata": {},
   "outputs": [],
   "source": [
    "time.observe(update_data, \"value\")"
   ]
  },
  {
   "cell_type": "code",
   "execution_count": 26,
   "id": "c0da2000-ac70-4a5b-898a-ee93dd533e2d",
   "metadata": {},
   "outputs": [],
   "source": [
    "xy.observe(update_xy, \"value\")\n",
    "xz.observe(update_xz, \"value\")\n",
    "yz.observe(update_yz, \"value\")"
   ]
  },
  {
   "cell_type": "code",
   "execution_count": 27,
   "id": "11ef6501-33ec-4124-b511-134f5dd73ef2",
   "metadata": {},
   "outputs": [],
   "source": [
    "# add axes helper for orientation\n",
    "axes_helper = gfx.AxesHelper(size=50, thickness=5)\n",
    "_ = fig[0, 0]._fpl_graphics_scene.add(axes_helper)"
   ]
  },
  {
   "cell_type": "code",
   "execution_count": 28,
   "id": "186017bd-86b7-482a-8711-4c5ffb587556",
   "metadata": {},
   "outputs": [],
   "source": [
    "# add text to axes helper\n",
    "fig[0,0].add_text(\"x\", offset=(20, -5, 0))\n",
    "fig[0,0].add_text(\"y\", offset=(-5, 20, 0))\n",
    "_ = fig[0,0].add_text(\"z\", offset=(0, -5, 20))"
   ]
  },
  {
   "cell_type": "code",
   "execution_count": 29,
   "id": "26739b4e-394e-42eb-b40f-196997066001",
   "metadata": {},
   "outputs": [],
   "source": [
    "# remove axes \n",
    "fig[0,0].axes.visible = False"
   ]
  },
  {
   "cell_type": "code",
   "execution_count": 30,
   "id": "622eb9ae-d388-428a-8734-e4396cb8b08f",
   "metadata": {},
   "outputs": [],
   "source": [
    "for sb in slice_fig:\n",
    "    sb.toolbar = False\n",
    "    sb.axes.visible = False"
   ]
  },
  {
   "cell_type": "code",
   "execution_count": 31,
   "id": "dc0725f8-da35-4d00-82a4-f4fad9783958",
   "metadata": {},
   "outputs": [],
   "source": [
    "fig[0, 0].toolbar = False"
   ]
  },
  {
   "cell_type": "code",
   "execution_count": 32,
   "id": "e3d2f25c-65d8-4972-8baf-409d88216e3e",
   "metadata": {},
   "outputs": [],
   "source": [
    "# add time title to bottom of plot\n",
    "t_graphic = fpl.TextGraphic(text=f\"time: {time.value}\", anchor=\"middle-center\")\n",
    "fig[0,0].docks[\"bottom\"].add_graphic(t_graphic)\n",
    "\n",
    "fig[0,0].docks[\"bottom\"].size = 25"
   ]
  },
  {
   "cell_type": "code",
   "execution_count": 33,
   "id": "fd24d668-dd04-4cbe-a1c8-86ae995a364f",
   "metadata": {},
   "outputs": [],
   "source": [
    "for s in [xy, xz, yz]:\n",
    "    s.value = 200"
   ]
  },
  {
   "cell_type": "code",
   "execution_count": 34,
   "id": "9166c588-e902-4330-abb7-63e4c0475d17",
   "metadata": {},
   "outputs": [],
   "source": [
    "controller_button = ToggleButtons(options=[\"orbit\", \"fly\"], description=\"controller:\")\n",
    "\n",
    "def update_controller(change):\n",
    "    new = change[\"new\"]\n",
    "\n",
    "    fig[0, 0].controller = new\n",
    "\n",
    "controller_button.observe(update_controller, \"value\")\n",
    "\n",
    "camera_state = {\n",
    "    'position': np.array([-382.16958611,  314.87869604,  -53.04635314]),\n",
    "    'rotation': np.array([-0.06085387, -0.84882078, -0.10019799,  0.5155196 ]),\n",
    "    'scale': np.array([1., 1., 1.]),\n",
    "    'reference_up': np.array([0., 1., 0.]),\n",
    "    'fov': 50.0,\n",
    "    'width': 477.7115315482451,\n",
    "    'height': 477.7115315482451,\n",
    "    'zoom': 0.75,\n",
    "    'maintain_aspect': True,\n",
    "    'depth_range': None\n",
    "}\n",
    "\n",
    "reset_camera_button = Button(description=\"reset view\")\n",
    "\n",
    "def reset_camera_and_slices(*args):\n",
    "    fov.value = 50\n",
    "    fig[0, 0].camera.set_state(camera_state)\n",
    "\n",
    "    for subplot in slice_fig:\n",
    "        subplot.camera.maintain_aspect = True\n",
    "        subplot.auto_scale(maintain_aspect=True)\n",
    "\n",
    "    for s in [xy, xz, yz]:\n",
    "        s.value = 200\n",
    "\n",
    "reset_camera_button.on_click(reset_camera_and_slices)"
   ]
  },
  {
   "cell_type": "code",
   "execution_count": 35,
   "id": "bf331ba8-b861-4002-8729-a45a9867ca68",
   "metadata": {},
   "outputs": [],
   "source": [
    "fov = IntSlider(min=1, max=70, value=50, description=\"fov, degrees:\")\n",
    "\n",
    "def update_fov(change):\n",
    "    val = change[\"new\"]\n",
    "    fig[0, 0].controller.update_fov(val - fig[0, 0].camera.fov, animate=False)\n",
    "\n",
    "fov.observe(update_fov, \"value\")"
   ]
  },
  {
   "cell_type": "code",
   "execution_count": 36,
   "id": "5433e6dc-076d-4e65-8c1a-4333ef81eeda",
   "metadata": {},
   "outputs": [
    {
     "data": {
      "application/vnd.jupyter.widget-view+json": {
       "model_id": "3a781ee1bb8a408c8243504ad5f789fa",
       "version_major": 2,
       "version_minor": 0
      },
      "text/plain": [
       "HBox(children=(JupyterWgpuCanvas(css_height='650px', css_width='650px'), JupyterWgpuCanvas(css_height='650px',…"
      ]
     },
     "execution_count": 36,
     "metadata": {},
     "output_type": "execute_result"
    }
   ],
   "source": [
    "HBox([fig.show(), slice_fig.show()])"
   ]
  },
  {
   "cell_type": "code",
   "execution_count": 48,
   "id": "c28588a2-38bc-484b-aacf-824bc1010f6d",
   "metadata": {},
   "outputs": [],
   "source": [
    "fig.renderer.blend_mode = \"weighted_plus\""
   ]
  },
  {
   "cell_type": "code",
   "execution_count": 56,
   "id": "f8cf4aff-f97f-433e-b35e-dbbd2a7cecbf",
   "metadata": {},
   "outputs": [
    {
     "data": {
      "text/plain": [
       "((0.0, 0.0, 0.0, 0.0), (1.0, 1.0, 1.0, 0.5))"
      ]
     },
     "execution_count": 56,
     "metadata": {},
     "output_type": "execute_result"
    }
   ],
   "source": [
    "vol.material.image_min, vol.material.image_max"
   ]
  },
  {
   "cell_type": "code",
   "execution_count": 78,
   "id": "23147bcb-0cfe-42f9-b0a5-77694d0802ca",
   "metadata": {},
   "outputs": [],
   "source": [
    "vol.material.image_min = (0.0, 0.0, 0.0, 1.0)"
   ]
  },
  {
   "cell_type": "markdown",
   "id": "e883c459-4e6d-4fea-b329-4f792993ade3",
   "metadata": {},
   "source": [
    "Powered by:\n",
    "\n",
    "[![fastplotlib](./logo_small.png)](https://github.com/fastplotlib/fastplotlib)"
   ]
  },
  {
   "cell_type": "code",
   "execution_count": 54,
   "id": "860c8820-feda-46c3-b479-a03b422ae8f6",
   "metadata": {},
   "outputs": [
    {
     "data": {
      "application/vnd.jupyter.widget-view+json": {
       "model_id": "25183554e91b4a15b355b4c5e3394171",
       "version_major": 2,
       "version_minor": 0
      },
      "text/plain": [
       "VBox(children=(Play(value=0, interval=500, max=120), IntSlider(value=0, description='time:', layout=Layout(wid…"
      ]
     },
     "execution_count": 54,
     "metadata": {},
     "output_type": "execute_result"
    }
   ],
   "source": [
    "VBox([play, time, xy, xz, yz, clim_red, clim_green, fov, controller_button, reset_camera_button])"
   ]
  },
  {
   "cell_type": "code",
   "execution_count": null,
   "id": "63cf42e4-8ac9-418b-a9f9-be501aa06455",
   "metadata": {},
   "outputs": [],
   "source": []
  },
  {
   "cell_type": "code",
   "execution_count": 38,
   "id": "77671da7-e84c-47fa-b8b1-d993e7d37d89",
   "metadata": {},
   "outputs": [],
   "source": [
    "play.interval = 500"
   ]
  },
  {
   "cell_type": "code",
   "execution_count": 39,
   "id": "54688305-f261-4387-83ee-b3fd873736e9",
   "metadata": {},
   "outputs": [],
   "source": [
    "fig[0, 0].camera.set_state(camera_state)"
   ]
  },
  {
   "cell_type": "code",
   "execution_count": null,
   "id": "df122b93-5929-49d7-88dc-640d5cb0952d",
   "metadata": {},
   "outputs": [],
   "source": []
  }
 ],
 "metadata": {
  "kernelspec": {
   "display_name": "Python 3 (ipykernel)",
   "language": "python",
   "name": "python3"
  },
  "language_info": {
   "codemirror_mode": {
    "name": "ipython",
    "version": 3
   },
   "file_extension": ".py",
   "mimetype": "text/x-python",
   "name": "python",
   "nbconvert_exporter": "python",
   "pygments_lexer": "ipython3",
   "version": "3.12.5"
  }
 },
 "nbformat": 4,
 "nbformat_minor": 5
}
